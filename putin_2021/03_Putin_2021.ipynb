{
 "cells": [
  {
   "cell_type": "code",
   "execution_count": null,
   "id": "eb75ce14",
   "metadata": {},
   "outputs": [],
   "source": []
  },
  {
   "cell_type": "code",
   "execution_count": 10,
   "id": "f50dda6e",
   "metadata": {},
   "outputs": [],
   "source": [
    "# загружаю нужные библиотеки\n",
    "\n",
    "import pandas as pd"
   ]
  },
  {
   "cell_type": "code",
   "execution_count": 11,
   "id": "aae633fb",
   "metadata": {},
   "outputs": [],
   "source": [
    "work_putin = pd.read_excel('C:/00_Projects/2021/Putin_2021/putin.xlsx', sheet_name='data')"
   ]
  },
  {
   "cell_type": "code",
   "execution_count": 9,
   "id": "085dd002",
   "metadata": {},
   "outputs": [],
   "source": [
    "(work_putin\n",
    " .groupby(['region', 'federal_district'], as_index=False)\n",
    " .agg({'street': 'count'})\n",
    " .rename(columns={'street': 'street_number'})\n",
    " .sort_values(['federal_district', 'street_number'], ascending=[True, False])\n",
    ")\n",
    "\n",
    "#.to_excel('C:/00_Projects/2021/Putin_2021/temp.xlsx')"
   ]
  },
  {
   "cell_type": "code",
   "execution_count": 13,
   "id": "00495628",
   "metadata": {},
   "outputs": [
    {
     "data": {
      "text/html": [
       "<div>\n",
       "<style scoped>\n",
       "    .dataframe tbody tr th:only-of-type {\n",
       "        vertical-align: middle;\n",
       "    }\n",
       "\n",
       "    .dataframe tbody tr th {\n",
       "        vertical-align: top;\n",
       "    }\n",
       "\n",
       "    .dataframe thead th {\n",
       "        text-align: right;\n",
       "    }\n",
       "</style>\n",
       "<table border=\"1\" class=\"dataframe\">\n",
       "  <thead>\n",
       "    <tr style=\"text-align: right;\">\n",
       "      <th></th>\n",
       "      <th>federal_district</th>\n",
       "      <th>city_population</th>\n",
       "    </tr>\n",
       "  </thead>\n",
       "  <tbody>\n",
       "    <tr>\n",
       "      <th>1</th>\n",
       "      <td>Северо-Кавказский федеральный округ</td>\n",
       "      <td>4619.363636</td>\n",
       "    </tr>\n",
       "    <tr>\n",
       "      <th>0</th>\n",
       "      <td>Приволжский федеральный округ</td>\n",
       "      <td>789.333333</td>\n",
       "    </tr>\n",
       "    <tr>\n",
       "      <th>2</th>\n",
       "      <td>Сибирский федеральный округ</td>\n",
       "      <td>471.000000</td>\n",
       "    </tr>\n",
       "    <tr>\n",
       "      <th>3</th>\n",
       "      <td>Уральский федеральный округ</td>\n",
       "      <td>309.000000</td>\n",
       "    </tr>\n",
       "    <tr>\n",
       "      <th>4</th>\n",
       "      <td>Центральный федеральный округ</td>\n",
       "      <td>120.000000</td>\n",
       "    </tr>\n",
       "  </tbody>\n",
       "</table>\n",
       "</div>"
      ],
      "text/plain": [
       "                      federal_district  city_population\n",
       "1  Северо-Кавказский федеральный округ      4619.363636\n",
       "0        Приволжский федеральный округ       789.333333\n",
       "2          Сибирский федеральный округ       471.000000\n",
       "3          Уральский федеральный округ       309.000000\n",
       "4        Центральный федеральный округ       120.000000"
      ]
     },
     "execution_count": 13,
     "metadata": {},
     "output_type": "execute_result"
    }
   ],
   "source": [
    "(work_putin[(\n",
    "    (work_putin.sub_city == 'city') &\n",
    "    (work_putin.city != 'Грозный')\n",
    ")]\n",
    " .groupby('federal_district', as_index=False)\n",
    " .agg({'city_population': 'mean'})\n",
    " #.rename(columns={'street': 'street_number'})\n",
    " .sort_values('city_population', ascending=False)\n",
    ")"
   ]
  },
  {
   "cell_type": "code",
   "execution_count": 5,
   "id": "40028560",
   "metadata": {},
   "outputs": [
    {
     "data": {
      "text/html": [
       "<div>\n",
       "<style scoped>\n",
       "    .dataframe tbody tr th:only-of-type {\n",
       "        vertical-align: middle;\n",
       "    }\n",
       "\n",
       "    .dataframe tbody tr th {\n",
       "        vertical-align: top;\n",
       "    }\n",
       "\n",
       "    .dataframe thead th {\n",
       "        text-align: right;\n",
       "    }\n",
       "</style>\n",
       "<table border=\"1\" class=\"dataframe\">\n",
       "  <thead>\n",
       "    <tr style=\"text-align: right;\">\n",
       "      <th></th>\n",
       "      <th>street_type</th>\n",
       "      <th>street</th>\n",
       "      <th>city_type</th>\n",
       "      <th>city</th>\n",
       "      <th>population</th>\n",
       "      <th>population_p</th>\n",
       "      <th>sub_city</th>\n",
       "      <th>mun_district</th>\n",
       "      <th>region</th>\n",
       "      <th>federal_district</th>\n",
       "      <th>...</th>\n",
       "      <th>oktmo</th>\n",
       "      <th>normdoc</th>\n",
       "      <th>aoguid</th>\n",
       "      <th>previd</th>\n",
       "      <th>regioncode</th>\n",
       "      <th>first_date</th>\n",
       "      <th>year</th>\n",
       "      <th>first_name</th>\n",
       "      <th>docname</th>\n",
       "      <th>docdate</th>\n",
       "    </tr>\n",
       "  </thead>\n",
       "  <tbody>\n",
       "    <tr>\n",
       "      <th>25</th>\n",
       "      <td>ул</td>\n",
       "      <td>Путина</td>\n",
       "      <td>с</td>\n",
       "      <td>Каменное</td>\n",
       "      <td>309.0</td>\n",
       "      <td>309.0</td>\n",
       "      <td>city</td>\n",
       "      <td>Октябрьский</td>\n",
       "      <td>Ханты-Мансийский АО</td>\n",
       "      <td>Уральский федеральный округ</td>\n",
       "      <td>...</td>\n",
       "      <td>71821424</td>\n",
       "      <td>NaN</td>\n",
       "      <td>4ee923c7-0962-4d5f-abc2-4a9cd2e890c5</td>\n",
       "      <td>25e48979-bca0-4018-a0e5-7a8d04bbff3e</td>\n",
       "      <td>86</td>\n",
       "      <td>2008-12-15</td>\n",
       "      <td>2008.0</td>\n",
       "      <td>Путина</td>\n",
       "      <td>NaN</td>\n",
       "      <td>NaT</td>\n",
       "    </tr>\n",
       "  </tbody>\n",
       "</table>\n",
       "<p>1 rows × 21 columns</p>\n",
       "</div>"
      ],
      "text/plain": [
       "   street_type  street city_type      city  population  population_p sub_city  \\\n",
       "25          ул  Путина         с  Каменное       309.0         309.0     city   \n",
       "\n",
       "   mun_district               region             federal_district  ...  \\\n",
       "25  Октябрьский  Ханты-Мансийский АО  Уральский федеральный округ  ...   \n",
       "\n",
       "       oktmo  normdoc                                aoguid  \\\n",
       "25  71821424      NaN  4ee923c7-0962-4d5f-abc2-4a9cd2e890c5   \n",
       "\n",
       "                                  previd regioncode  first_date    year  \\\n",
       "25  25e48979-bca0-4018-a0e5-7a8d04bbff3e         86  2008-12-15  2008.0   \n",
       "\n",
       "    first_name docname docdate  \n",
       "25      Путина     NaN     NaT  \n",
       "\n",
       "[1 rows x 21 columns]"
      ]
     },
     "execution_count": 5,
     "metadata": {},
     "output_type": "execute_result"
    }
   ],
   "source": [
    "work_putin.sample()"
   ]
  },
  {
   "cell_type": "code",
   "execution_count": null,
   "id": "6f000f58",
   "metadata": {},
   "outputs": [],
   "source": [
    "(work_putin\n",
    " .groupby('year', as_index=False)\n",
    " .agg({'street': 'count'})\n",
    " #.rename(columns={'street': 'street_number'})\n",
    " .sort_values('year', ascending=False)\n",
    ").to_excel('C:/00_Data/temp.xlsx', index=False)"
   ]
  },
  {
   "cell_type": "code",
   "execution_count": null,
   "id": "be079f98",
   "metadata": {},
   "outputs": [],
   "source": []
  },
  {
   "cell_type": "code",
   "execution_count": null,
   "id": "32a4de18",
   "metadata": {},
   "outputs": [],
   "source": [
    "(work_putin[(\n",
    "    (work_putin.sub_city == 'city') &\n",
    "    (work_putin.city != 'Грозный')\n",
    ")]\n",
    " .groupby('federal_district', as_index=False)\n",
    " .agg({'city_population': 'mean'})\n",
    " #.rename(columns={'street': 'street_number'})\n",
    " .sort_values('city_population', ascending=False)\n",
    ")"
   ]
  },
  {
   "cell_type": "code",
   "execution_count": null,
   "id": "3f251a5a",
   "metadata": {},
   "outputs": [],
   "source": []
  },
  {
   "cell_type": "code",
   "execution_count": null,
   "id": "1a8847aa",
   "metadata": {},
   "outputs": [],
   "source": []
  },
  {
   "cell_type": "code",
   "execution_count": null,
   "id": "8875eff1",
   "metadata": {},
   "outputs": [],
   "source": []
  },
  {
   "cell_type": "code",
   "execution_count": null,
   "id": "44d278ca",
   "metadata": {},
   "outputs": [],
   "source": []
  }
 ],
 "metadata": {
  "kernelspec": {
   "display_name": "Python 3",
   "language": "python",
   "name": "python3"
  },
  "language_info": {
   "codemirror_mode": {
    "name": "ipython",
    "version": 3
   },
   "file_extension": ".py",
   "mimetype": "text/x-python",
   "name": "python",
   "nbconvert_exporter": "python",
   "pygments_lexer": "ipython3",
   "version": "3.8.8"
  }
 },
 "nbformat": 4,
 "nbformat_minor": 5
}
