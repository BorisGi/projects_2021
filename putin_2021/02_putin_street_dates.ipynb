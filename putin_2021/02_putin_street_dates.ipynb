{
 "cells": [
  {
   "cell_type": "markdown",
   "metadata": {},
   "source": [
    "Код вытаскивает из таблиц ФИАС первый STARTDATE путинских улиц и все нормативные акты, которые к улицам относятся.\n",
    "\n",
    "Для первой задачи:\n",
    "- вытаскиваю AOGUID — универсальные идентификаторы\n",
    "- нахожу в таблицах регионов все записи с этими AOGUID\n",
    "- фильтрую данные по пустым PREVID, ссылкам на предыдущую запись\n",
    "\n",
    "Пустой PREVID означает, что у записи (адресной единицы) нет предка. В ФИАС есть ошибки, но в данном случае вроде все норм.\n",
    "\n",
    "\n",
    "\n"
   ]
  },
  {
   "cell_type": "code",
   "execution_count": null,
   "metadata": {},
   "outputs": [],
   "source": [
    "# загружаю нужные библиотеки\n",
    "\n",
    "import pandas as pd\n",
    "\n",
    "# прогресс-бар\n",
    "from tqdm.notebook import trange, tqdm\n",
    "\n",
    "# для работы с базами\n",
    "from dbfread import DBF"
   ]
  },
  {
   "cell_type": "code",
   "execution_count": null,
   "metadata": {},
   "outputs": [],
   "source": [
    "# загружаю коды регионов\n",
    "\n",
    "reg_code = pd.read_csv('C:/00_Data/General/reg_code.csv')\n",
    "reg_code.regioncode = reg_code.regioncode.astype('int32')"
   ]
  },
  {
   "cell_type": "code",
   "execution_count": null,
   "metadata": {},
   "outputs": [],
   "source": [
    "# загружаю подготовленный на предыдущем шаге датасет с улицами Путина\n",
    "\n",
    "putin = pd.read_excel('C:/Data/putin.xlsx')"
   ]
  },
  {
   "cell_type": "code",
   "execution_count": null,
   "metadata": {},
   "outputs": [],
   "source": [
    "# добавляю коды регионов ФИАС в путинский датафрейм\n",
    "\n",
    "putin = putin.merge(reg_code, on='region', how='left')"
   ]
  },
  {
   "cell_type": "code",
   "execution_count": null,
   "metadata": {},
   "outputs": [],
   "source": [
    "putin.head(2)"
   ]
  },
  {
   "cell_type": "code",
   "execution_count": null,
   "metadata": {},
   "outputs": [],
   "source": [
    "# фильтрую, оставляю только нужные столбцы \n",
    "\n",
    "work_putin = putin[['aoguid', 'regioncode']]"
   ]
  },
  {
   "cell_type": "markdown",
   "metadata": {},
   "source": [
    "### Вытаскиваю STARTDATE ###"
   ]
  },
  {
   "cell_type": "code",
   "execution_count": null,
   "metadata": {},
   "outputs": [],
   "source": [
    "# список с кодами регионов, где есть путинские улицы\n",
    "\n",
    "putin_region_list = [] # список для кодов\n",
    "\n",
    "for i in work_putin.regioncode.unique(): # циклом вытаскиваю коды, прибавляю '0' кому надо\n",
    "    if len(str(i)) == 1:\n",
    "        putin_region_list += ['0' + str(i)]\n",
    "        \n",
    "    else:\n",
    "        putin_region_list += [str(i)]"
   ]
  },
  {
   "cell_type": "code",
   "execution_count": null,
   "metadata": {},
   "outputs": [],
   "source": [
    "# делаю словарь — код региона: список aoguID\n",
    "\n",
    "putin_region_dict = {} # словарь для данных\n",
    "\n",
    "for i in putin_region_list: # циклом вытаскиваю данные, фильтруя по региону\n",
    "    putin_region_dict[i] = work_putin[work_putin.regioncode == int(i)].aoguid.to_list()"
   ]
  },
  {
   "cell_type": "code",
   "execution_count": null,
   "metadata": {},
   "outputs": [],
   "source": [
    "print(putin_region_dict)"
   ]
  },
  {
   "cell_type": "code",
   "execution_count": null,
   "metadata": {},
   "outputs": [],
   "source": [
    "# вытаскиваю записи по AOGUID\n",
    "\n",
    "need_data = pd.DataFrame() # фрейм для данных\n",
    "\n",
    "for region in tqdm(putin_region_dict.keys()):\n",
    "    dbf = DBF('C:/FIAS/ADDROB' + region + '.DBF') # открываю файл региона\n",
    "    temp = pd.DataFrame(dbf) # временный датафрейм\n",
    "    \n",
    "    for aoguid in putin_region_dict[region]: # цикл по AOGUID\n",
    "        temp_1 = temp[temp['AOGUID'] == aoguid] # фильтрую\n",
    "        \n",
    "        need_data = need_data.append(temp_1) # добавляю в основной фрейм"
   ]
  },
  {
   "cell_type": "code",
   "execution_count": null,
   "metadata": {},
   "outputs": [],
   "source": [
    "# фильтрую данные по пустым PREVID\n",
    "\n",
    "data_filtered = need_data[need_data['PREVID'] == ''][['AOGUID', 'STARTDATE', 'OFFNAME']]"
   ]
  },
  {
   "cell_type": "code",
   "execution_count": null,
   "metadata": {},
   "outputs": [],
   "source": [
    "# переименовываю столбцы\n",
    "\n",
    "data_filtered = data_filtered.rename(\n",
    "    columns={'AOGUID': 'aoguid',\n",
    "             'STARTDATE': 'first_date',\n",
    "             'OFFNAME': 'first_name'})"
   ]
  },
  {
   "cell_type": "code",
   "execution_count": null,
   "metadata": {},
   "outputs": [],
   "source": [
    "# добавляю данные в путинский датафрем\n",
    "\n",
    "putin = putin.merge(data_filtered, on='aoguid', how='left')"
   ]
  },
  {
   "cell_type": "code",
   "execution_count": null,
   "metadata": {},
   "outputs": [],
   "source": []
  },
  {
   "cell_type": "markdown",
   "metadata": {},
   "source": [
    "### Вытаскиваю нормативные акты ###\n",
    "\n",
    "Идентификаторы документов вытаскиваю из need_data."
   ]
  },
  {
   "cell_type": "code",
   "execution_count": null,
   "metadata": {},
   "outputs": [],
   "source": [
    "# фильтрую нужные столбцы\n",
    "\n",
    "work_normdoc = need_data[['AOGUID', 'NORMDOC']]"
   ]
  },
  {
   "cell_type": "code",
   "execution_count": null,
   "metadata": {},
   "outputs": [],
   "source": [
    "work_normdoc.shape"
   ]
  },
  {
   "cell_type": "code",
   "execution_count": null,
   "metadata": {},
   "outputs": [],
   "source": [
    "# перевожу названия столбцов в нижний регистр\n",
    "\n",
    "work_normdoc.columns = work_normdoc.columns.str.lower()"
   ]
  },
  {
   "cell_type": "code",
   "execution_count": null,
   "metadata": {},
   "outputs": [],
   "source": [
    "# проверяю пустые значения\n",
    "\n",
    "work_normdoc[work_normdoc.normdoc == ''].shape"
   ]
  },
  {
   "cell_type": "code",
   "execution_count": null,
   "metadata": {},
   "outputs": [],
   "source": [
    "# удаляю пустые строки\n",
    "\n",
    "work_normdoc = work_normdoc[work_normdoc.normdoc != '']"
   ]
  },
  {
   "cell_type": "code",
   "execution_count": null,
   "metadata": {},
   "outputs": [],
   "source": [
    "# удаляю дубликаты\n",
    "\n",
    "work_normdoc.drop_duplicates(inplace=True)"
   ]
  },
  {
   "cell_type": "code",
   "execution_count": null,
   "metadata": {},
   "outputs": [],
   "source": [
    "work_normdoc.shape"
   ]
  },
  {
   "cell_type": "code",
   "execution_count": null,
   "metadata": {},
   "outputs": [],
   "source": [
    "# однако уникальных идентификаторов нормативных актов еще меньше\n",
    "\n",
    "work_normdoc.normdoc.nunique()"
   ]
  },
  {
   "cell_type": "code",
   "execution_count": null,
   "metadata": {},
   "outputs": [],
   "source": [
    "# добавляю regioncode\n",
    "\n",
    "work_normdoc = work_normdoc.merge(work_putin, on='aoguid', how='left')"
   ]
  },
  {
   "cell_type": "code",
   "execution_count": null,
   "metadata": {},
   "outputs": [],
   "source": [
    "# делаю словарь — код региона: список normdoc\n",
    "\n",
    "putin_norm_dict = {} # словарь для данных\n",
    "\n",
    "for i in putin_region_list: # циклом вытаскиваю данные, фильтруя по региону\n",
    "    temp = list(\n",
    "        set( # по пути удаляю одинаковые normdoc\n",
    "            work_normdoc[work_normdoc.regioncode == int(i)].normdoc.to_list()\n",
    "           ))\n",
    "       \n",
    "    # если данные не пустые, записываю в словарь\n",
    "    if  temp != []:\n",
    "        putin_norm_dict[i] = temp"
   ]
  },
  {
   "cell_type": "code",
   "execution_count": null,
   "metadata": {},
   "outputs": [],
   "source": [
    "# проверяю количество normdoc в словаре, должно быть 43\n",
    "\n",
    "normdoc_number = 0\n",
    "\n",
    "for i in putin_norm_dict.keys():\n",
    "    normdoc_number += len(putin_norm_dict[i])\n",
    "    \n",
    "print(normdoc_number)"
   ]
  },
  {
   "cell_type": "code",
   "execution_count": null,
   "metadata": {},
   "outputs": [],
   "source": [
    "# вытаскиваю записи по NORMDOC\n",
    "\n",
    "need_data_normdoc = pd.DataFrame() # фрейм для данных\n",
    "\n",
    "for region in tqdm(putin_norm_dict.keys()):\n",
    "    dbf = DBF('C:/FIAS/NORDOC' + region + '.DBF') # открываю файл региона\n",
    "    temp = pd.DataFrame(dbf) # временный датафрейм\n",
    "    \n",
    "    for normdoc in putin_norm_dict[region]: # цикл по NORMDOC\n",
    "        temp_1 = temp[temp['NORMDOCID'] == normdoc] # фильтрую               \n",
    "        \n",
    "        need_data_normdoc = need_data_normdoc.append(temp_1) # добавляю в основной фрейм"
   ]
  },
  {
   "cell_type": "code",
   "execution_count": null,
   "metadata": {},
   "outputs": [],
   "source": [
    "need_data_normdoc.shape"
   ]
  },
  {
   "cell_type": "code",
   "execution_count": null,
   "metadata": {},
   "outputs": [],
   "source": [
    "# оставляю только нужные столбцы\n",
    "\n",
    "need_data_normdoc = need_data_normdoc[['NORMDOCID', 'DOCNAME', 'DOCDATE']]"
   ]
  },
  {
   "cell_type": "code",
   "execution_count": null,
   "metadata": {},
   "outputs": [],
   "source": [
    "# перевожу названия столбцов в нижний регистр\n",
    "\n",
    "need_data_normdoc.columns = need_data_normdoc.columns.str.lower()"
   ]
  },
  {
   "cell_type": "code",
   "execution_count": null,
   "metadata": {},
   "outputs": [],
   "source": [
    "# переименовываю столбец normdocid для слияния\n",
    "\n",
    "need_data_normdoc = need_data_normdoc.rename(columns={'normdocid': 'normdoc'})"
   ]
  },
  {
   "cell_type": "code",
   "execution_count": null,
   "metadata": {},
   "outputs": [],
   "source": [
    "putin = putin.merge(need_data_normdoc, on='normdoc', how='left')"
   ]
  },
  {
   "cell_type": "code",
   "execution_count": null,
   "metadata": {},
   "outputs": [],
   "source": [
    "putin.shape"
   ]
  },
  {
   "cell_type": "code",
   "execution_count": null,
   "metadata": {},
   "outputs": [],
   "source": []
  },
  {
   "cell_type": "code",
   "execution_count": null,
   "metadata": {},
   "outputs": [],
   "source": [
    "putin.to_excel('C:/00_Projects/2021/Putin_2021/putin_new.xlsx', index=False)"
   ]
  },
  {
   "cell_type": "markdown",
   "metadata": {},
   "source": [
    "Часть улиц находится в СНТ / ДНТ, чтобы поэтому не совсем точно определяется.\n",
    "\n",
    "Чтобы свести эти данные с данными по численности, выгружаю датасет в Эксель и исправляю руками."
   ]
  },
  {
   "cell_type": "code",
   "execution_count": null,
   "metadata": {},
   "outputs": [],
   "source": [
    "putin = pd.read_excel('C:/00_Projects/2021/Putin_2021/putin_new.xlsx')"
   ]
  },
  {
   "cell_type": "markdown",
   "metadata": {},
   "source": [
    "Данные о численности — Минздрав в обработке ИНИД:\n",
    "\n",
    "https://data-in.ru/data-catalog/datasets/160/"
   ]
  },
  {
   "cell_type": "code",
   "execution_count": null,
   "metadata": {},
   "outputs": [],
   "source": [
    "settlements = pd.read_csv('C:/00_Data/iNID/settlements_12032021/data.csv')"
   ]
  },
  {
   "cell_type": "code",
   "execution_count": null,
   "metadata": {},
   "outputs": [],
   "source": [
    "inid_regions = pd.read_excel('C:/00_Data/INID/inid_regions.xlsx')"
   ]
  },
  {
   "cell_type": "code",
   "execution_count": null,
   "metadata": {},
   "outputs": [],
   "source": [
    "settlements.sample()"
   ]
  },
  {
   "cell_type": "code",
   "execution_count": null,
   "metadata": {},
   "outputs": [],
   "source": [
    "settlements = settlements.merge(inid_regions, how='left', on='region')"
   ]
  },
  {
   "cell_type": "code",
   "execution_count": null,
   "metadata": {},
   "outputs": [],
   "source": [
    "# группирую нужные данные\n",
    "\n",
    "settlements = settlements.rename(columns={\n",
    "    'municipality': 'mun_district',\n",
    "    'settlement': 'city'\n",
    "})"
   ]
  },
  {
   "cell_type": "code",
   "execution_count": null,
   "metadata": {},
   "outputs": [],
   "source": [
    "settlements = settlements[['region', 'regioncode', 'mun_district', 'city', 'population']]"
   ]
  },
  {
   "cell_type": "code",
   "execution_count": null,
   "metadata": {},
   "outputs": [],
   "source": [
    "# присоединяю к датасету\n",
    "\n",
    "putin = putin.merge(settlements, how='left', on=['regioncode', 'city'])"
   ]
  },
  {
   "cell_type": "code",
   "execution_count": null,
   "metadata": {},
   "outputs": [],
   "source": [
    "# записываю в файл\n",
    "\n",
    "putin.to_excel('C:/00_Projects/2021/Putin_2021/temp.xlsx')"
   ]
  },
  {
   "cell_type": "code",
   "execution_count": null,
   "metadata": {},
   "outputs": [],
   "source": []
  }
 ],
 "metadata": {
  "kernelspec": {
   "display_name": "Python 3",
   "language": "python",
   "name": "python3"
  },
  "language_info": {
   "codemirror_mode": {
    "name": "ipython",
    "version": 3
   },
   "file_extension": ".py",
   "mimetype": "text/x-python",
   "name": "python",
   "nbconvert_exporter": "python",
   "pygments_lexer": "ipython3",
   "version": "3.8.8"
  }
 },
 "nbformat": 4,
 "nbformat_minor": 2
}
